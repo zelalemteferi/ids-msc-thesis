{
  "cells": [
    {
      "cell_type": "code",
      "execution_count": null,
      "metadata": {},
      "outputs": [],
      "source": [
        "# 3e. Controlled Experiment: All except loss functions\n",
        "# Purpose: Joint control of all main conponents without loss functions\n",
        "models = config[\"models\"]\n",
        "feature_options = [\"latent\", \"reconstruction\", \"latent+reconstruction\"]\n",
        "loss_options = [\"default\", \"alternative1\", \"alternative2\"]\n",
        "\n",
        "for model_name, model_cfg in models.items():\n",
        "    for feat in feature_options:\n",
        "        for loss_fn in loss_options:\n",
        "            print(f\"Model: {model_name}, Features: {feat}, Loss: {loss_fn}\")\n",
        "            # Placeholder: train/evaluate model\n"
      ]
    }
  ],
  "metadata": {},
  "nbformat": 4,
  "nbformat_minor": 5
}