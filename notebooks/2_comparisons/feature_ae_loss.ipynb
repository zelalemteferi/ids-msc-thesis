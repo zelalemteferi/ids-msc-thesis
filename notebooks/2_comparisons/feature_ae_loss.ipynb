{
  "cells": [
    {
      "cell_type": "code",
      "execution_count": null,
      "metadata": {},
      "outputs": [],
      "source": [
        "# 3b. Controlled Experiment: Score Networks\n",
        "# Purpose: Control score networks, test combined effects of feature encodings, encoding, and loss of each model\n",
        "models = config[\"models\"]\n",
        "feature_options = [\"latent\", \"reconstruction\", \"latent+reconstruction\"]\n",
        "\n",
        "for model_name, model_cfg in models.items():\n",
        "    for feat in feature_options:\n",
        "        print(f\"Model: {model_name}, Features: {feat}\")\n",
        "        # Placeholder: train/evaluate using selected features\n"
      ]
    }
  ],
  "metadata": {},
  "nbformat": 4,
  "nbformat_minor": 5
}