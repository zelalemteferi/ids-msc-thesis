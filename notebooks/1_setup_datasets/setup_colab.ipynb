{
  "cells": [
    {
      "cell_type": "code",
      "execution_count": null,
      "metadata": {},
      "outputs": [],
      "source": [
        "# 1. Setup\n",
        "# Purpose: Initialize paths, configs, common imports, reproducibility settings\n",
        "import os, json, numpy as np, pandas as pd\n",
        "import tensorflow as tf\n",
        "from tensorflow.keras import layers, models, optimizers\n",
        "np.random.seed(42); tf.random.set_seed(42)\n",
        "\n",
        "# Load unified config\n",
        "config_path = os.path.join(\"..\", \"unified_experiment_config.json\")\n",
        "with open(config_path, \"r\") as f:\n",
        "    config = json.load(f)\n",
        "\n",
        "# Placeholder: Create shared backbone encoder/decoder\n",
        "backbone_encoder = config[\"backbone\"][\"encoder\"]\n",
        "backbone_decoder = config[\"backbone\"][\"decoder\"]\n",
        "latent_dim = config[\"backbone\"][\"latent_dim\"]\n"
      ]
    }
  ],
  "metadata": {},
  "nbformat": 4,
  "nbformat_minor": 5
}