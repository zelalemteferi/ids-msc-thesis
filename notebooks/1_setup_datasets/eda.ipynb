{
  "cells": [
    {
      "cell_type": "code",
      "execution_count": null,
      "metadata": {},
      "outputs": [],
      "source": [
        "# 2. Exploratory Data Analysis (EDA)\n",
        "# Purpose: Dataset exploration, summary stats, anomaly ratio checks, preprocessing\n",
        "import matplotlib.pyplot as plt, seaborn as sns\n",
        "\n",
        "# Load datasets (placeholder)\n",
        "datasets = config[\"datasets\"][\"dataset_specs\"]\n",
        "for ds in datasets:\n",
        "    print(f\"Dataset: {ds['name']}, shape: ({ds['N']}, {ds['dim']})\")\n",
        "    print(f\"Anomaly ratio: {ds['anomaly_ratio']}%\")\n",
        "    print(\"-\"*40)\n",
        "\n",
        "# Placeholder: add normalization, feature stats, and plots\n"
      ]
    }
  ],
  "metadata": {},
  "nbformat": 4,
  "nbformat_minor": 5
}